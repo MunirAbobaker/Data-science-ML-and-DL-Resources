{
 "cells": [
  {
   "cell_type": "code",
   "execution_count": 1,
   "id": "2414af9e",
   "metadata": {},
   "outputs": [
    {
     "name": "stdout",
     "output_type": "stream",
     "text": [
      "Sample DataFrame:\n",
      "      Name  Age           City\n",
      "0    Alice   25       New York\n",
      "1      Bob   30  San Francisco\n",
      "2  Charlie   35    Los Angeles\n",
      "3    David   40        Chicago\n"
     ]
    }
   ],
   "source": [
    "import pandas as pd\n",
    "\n",
    "# Create a sample DataFrame\n",
    "data = {\n",
    "    'Name': ['Alice', 'Bob', 'Charlie', 'David'],\n",
    "    'Age': [25, 30, 35, 40],\n",
    "    'City': ['New York', 'San Francisco', 'Los Angeles', 'Chicago']\n",
    "}\n",
    "\n",
    "df = pd.DataFrame(data)\n",
    "\n",
    "# Print the entire DataFrame\n",
    "print(\"Sample DataFrame:\")\n",
    "print(df)"
   ]
  },
  {
   "cell_type": "markdown",
   "id": "32eba54b",
   "metadata": {},
   "source": [
    "## Difference Between loc and Iloc\n",
    "\n",
    "(https://www.statology.org/pandas-loc-vs-iloc/)"
   ]
  },
  {
   "cell_type": "code",
   "execution_count": 12,
   "id": "6b530d40",
   "metadata": {},
   "outputs": [
    {
     "name": "stdout",
     "output_type": "stream",
     "text": [
      "49    a\n",
      "48    b\n",
      "47    c\n",
      "0     d\n",
      "1     e\n",
      "2     f\n",
      "dtype: object\n",
      "\n",
      "d\n",
      "\n",
      "a\n",
      "\n",
      "0    d\n",
      "1    e\n",
      "dtype: object\n",
      "\n",
      "49    a\n",
      "dtype: object\n"
     ]
    }
   ],
   "source": [
    " s = pd.Series(list(\"abcdef\"), index=[49, 48, 47, 0, 1, 2]) \n",
    "\n",
    "print(s)\n",
    "print()\n",
    "\n",
    "## Note that not always the index label and location is same\n",
    "\n",
    "print(s.loc[0])   # value at index label 0\n",
    "#'d'\n",
    "print()\n",
    "print(s.iloc[0])   # value at index location 0\n",
    "#'a'\n",
    "print()\n",
    "\n",
    "print(s.loc[0:1])  # rows at index labels between 0 and 1 (inclusive)\n",
    "#0    d\n",
    "#1    e\n",
    "print()\n",
    "\n",
    "print(s.iloc[0:1]) # rows at index location between 0 and 1 (exclusive)\n",
    "#49    a"
   ]
  },
  {
   "cell_type": "markdown",
   "id": "1edcdc9c",
   "metadata": {},
   "source": [
    "![](https://miro.medium.com/v2/resize:fit:1100/format:webp/1*CgAWzayEQY8PQuMpRkSGfQ.png)"
   ]
  },
  {
   "cell_type": "markdown",
   "id": "ebae17f5",
   "metadata": {},
   "source": [
    "## iloc Function\n",
    "### iloc gets rows (and/or columns) at integer locations.\n",
    "\n"
   ]
  },
  {
   "cell_type": "code",
   "execution_count": 2,
   "id": "f3e6e1e0",
   "metadata": {},
   "outputs": [
    {
     "name": "stdout",
     "output_type": "stream",
     "text": [
      "Using iloc:\n",
      "Selecting the first row:\n",
      "Name       Alice\n",
      "Age           25\n",
      "City    New York\n",
      "Name: 0, dtype: object\n"
     ]
    }
   ],
   "source": [
    "# Using iloc to select data\n",
    "print(\"Using iloc:\")\n",
    "print(\"Selecting the first row:\")\n",
    "print(df.iloc[0])  # Select the first row\n"
   ]
  },
  {
   "cell_type": "code",
   "execution_count": 3,
   "id": "2352a0e7",
   "metadata": {},
   "outputs": [
    {
     "name": "stdout",
     "output_type": "stream",
     "text": [
      "Selecting a specific cell:\n",
      "San Francisco\n",
      "\n"
     ]
    }
   ],
   "source": [
    "\n",
    "print(\"Selecting a specific cell:\")\n",
    "print(df.iloc[1, 2])  # Select a specific cell (row 2, column 3)\n",
    "print()"
   ]
  },
  {
   "cell_type": "markdown",
   "id": "a3dda3d7",
   "metadata": {},
   "source": [
    "## loc Function\n",
    "### loc gets rows (and/or columns) with particular labels.\n"
   ]
  },
  {
   "cell_type": "code",
   "execution_count": 4,
   "id": "843e49fb",
   "metadata": {},
   "outputs": [
    {
     "name": "stdout",
     "output_type": "stream",
     "text": [
      "Using loc:\n",
      "Selecting by label:\n",
      "Name              Bob\n",
      "Age                30\n",
      "City    San Francisco\n",
      "Name: 1, dtype: object\n",
      "\n"
     ]
    }
   ],
   "source": [
    "# Using loc to select data\n",
    "print(\"Using loc:\")\n",
    "print(\"Selecting by label:\")\n",
    "print(df.loc[1])  # Select row with label 1\n",
    "print()"
   ]
  },
  {
   "cell_type": "code",
   "execution_count": 5,
   "id": "04858085",
   "metadata": {},
   "outputs": [
    {
     "name": "stdout",
     "output_type": "stream",
     "text": [
      "Selecting by label and column:\n",
      "Charlie\n",
      "\n"
     ]
    }
   ],
   "source": [
    "print(\"Selecting by label and column:\")\n",
    "print(df.loc[2, 'Name'])  # Select Name from row with label 2\n",
    "print()\n"
   ]
  },
  {
   "cell_type": "markdown",
   "id": "38bd7bcd",
   "metadata": {},
   "source": [
    "## Iterrows()"
   ]
  },
  {
   "cell_type": "code",
   "execution_count": 6,
   "id": "b90a9d3d",
   "metadata": {},
   "outputs": [
    {
     "name": "stdout",
     "output_type": "stream",
     "text": [
      "Using iterrows:\n",
      "Index: 0, Name: Alice, Age: 25\n",
      "Index: 1, Name: Bob, Age: 30\n",
      "Index: 2, Name: Charlie, Age: 35\n",
      "Index: 3, Name: David, Age: 40\n",
      "\n"
     ]
    }
   ],
   "source": [
    "# Using iterrows\n",
    "print(\"Using iterrows:\")\n",
    "for index, row in df.iterrows():\n",
    "    print(f\"Index: {index}, Name: {row['Name']}, Age: {row['Age']}\")\n",
    "print()"
   ]
  },
  {
   "cell_type": "markdown",
   "id": "7e9b2260",
   "metadata": {},
   "source": [
    "## Iteritems()"
   ]
  },
  {
   "cell_type": "code",
   "execution_count": 7,
   "id": "422cb6ee",
   "metadata": {},
   "outputs": [
    {
     "name": "stdout",
     "output_type": "stream",
     "text": [
      "Using iteritems:\n",
      "Column Label: Name, First Value: Alice\n",
      "Column Label: Age, First Value: 25\n",
      "Column Label: City, First Value: New York\n"
     ]
    },
    {
     "name": "stderr",
     "output_type": "stream",
     "text": [
      "C:\\Users\\admin\\AppData\\Local\\Temp\\ipykernel_9096\\2399400981.py:3: FutureWarning: iteritems is deprecated and will be removed in a future version. Use .items instead.\n",
      "  for column_label, column_data in df.iteritems():\n"
     ]
    }
   ],
   "source": [
    "# Using iteritems\n",
    "print(\"Using iteritems:\")\n",
    "for column_label, column_data in df.iteritems():\n",
    "    print(f\"Column Label: {column_label}, First Value: {column_data.iloc[0]}\")\n"
   ]
  },
  {
   "cell_type": "code",
   "execution_count": null,
   "id": "ffcf5c5a",
   "metadata": {},
   "outputs": [],
   "source": []
  },
  {
   "cell_type": "code",
   "execution_count": null,
   "id": "9b5e05fe",
   "metadata": {},
   "outputs": [],
   "source": []
  },
  {
   "cell_type": "code",
   "execution_count": null,
   "id": "6c94ffe0",
   "metadata": {},
   "outputs": [],
   "source": []
  }
 ],
 "metadata": {
  "kernelspec": {
   "display_name": "Python 3 (ipykernel)",
   "language": "python",
   "name": "python3"
  },
  "language_info": {
   "codemirror_mode": {
    "name": "ipython",
    "version": 3
   },
   "file_extension": ".py",
   "mimetype": "text/x-python",
   "name": "python",
   "nbconvert_exporter": "python",
   "pygments_lexer": "ipython3",
   "version": "3.10.9"
  }
 },
 "nbformat": 4,
 "nbformat_minor": 5
}
