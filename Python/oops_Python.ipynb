{
  "nbformat": 4,
  "nbformat_minor": 0,
  "metadata": {
    "colab": {
      "provenance": [],
      "authorship_tag": "ABX9TyPpWyhggMohfRIwTSIdq0DJ",
      "include_colab_link": true
    },
    "kernelspec": {
      "name": "python3",
      "display_name": "Python 3"
    },
    "language_info": {
      "name": "python"
    }
  },
  "cells": [
    {
      "cell_type": "markdown",
      "metadata": {
        "id": "view-in-github",
        "colab_type": "text"
      },
      "source": [
        "<a href=\"https://colab.research.google.com/github/chethanhn29/Data-science-ML-and-DL-Resources/blob/main/Python/oops_Python.ipynb\" target=\"_parent\"><img src=\"https://colab.research.google.com/assets/colab-badge.svg\" alt=\"Open In Colab\"/></a>"
      ]
    },
    {
      "cell_type": "markdown",
      "source": [
        "### https://pynative.com/python/object-oriented-programming/"
      ],
      "metadata": {
        "id": "peJTna4cM-Yh"
      }
    },
    {
      "cell_type": "markdown",
      "source": [
        "### To Print Object in python"
      ],
      "metadata": {
        "id": "CqieJDdxJV-p"
      }
    },
    {
      "cell_type": "code",
      "execution_count": null,
      "metadata": {
        "id": "sGE1YbY_IVb7"
      },
      "outputs": [],
      "source": [
        "class Element:\n",
        "    def __init__(self, name, symbol, number):\n",
        "        self.name = name\n",
        "        self.symbol = symbol\n",
        "        self.number = number\n",
        "\n",
        "    def __str__(self):\n",
        "        return str(self.__class__) + \": \" + str(self.__dict__)"
      ]
    },
    {
      "cell_type": "markdown",
      "source": [
        "#### To get the docs of inbuilt functions in python"
      ],
      "metadata": {
        "id": "7McoA3D_JF1V"
      }
    },
    {
      "cell_type": "code",
      "source": [
        "list.remove.__doc__"
      ],
      "metadata": {
        "colab": {
          "base_uri": "https://localhost:8080/",
          "height": 35
        },
        "id": "S75JnLJVJLYL",
        "outputId": "5ace231d-2491-4d1f-ad6c-518be8678892"
      },
      "execution_count": null,
      "outputs": [
        {
          "output_type": "execute_result",
          "data": {
            "text/plain": [
              "'Remove first occurrence of value.\\n\\nRaises ValueError if the value is not present.'"
            ],
            "application/vnd.google.colaboratory.intrinsic+json": {
              "type": "string"
            }
          },
          "metadata": {},
          "execution_count": 2
        }
      ]
    },
    {
      "cell_type": "markdown",
      "source": [
        "\n",
        "#### Consturctor\n",
        "\n",
        "A constructor is a special method used to create and initialize an object of a class. This method is defined in the class.\n",
        "\n",
        "In Python, Object creation is divided into two parts in Object Creation and Object initialization\n",
        "\n",
        "- Internally, the __new__ is the method that creates the object\n",
        "- And, using the __init__() method we can implement constructor to initialize the object.\n",
        "### Difference between str and repr\n",
        "\n",
        "In Python, the `__str__` and `__repr__` methods serve different purposes and provide different levels of detail about an object. Understanding the differences and appropriate use cases for each is crucial for designing classes that integrate well with Python’s built-in functions and debugging tools.\n",
        "\n",
        "### `__str__` Method\n",
        "- **Purpose:** The `__str__` method is used to define a \"pretty\" or user-friendly string representation of an object. It's intended to be readable and suitable for end-users.\n",
        "- **Usage:** When you use `str()` or `print()` on an object, Python calls the `__str__` method.\n",
        "- **Example Use Case:** Displaying information about an object in a way that is easy to understand, such as in a UI or logging output intended for non-developer audiences.\n",
        "\n",
        "### `__repr__` Method\n",
        "- **Purpose:** The `__repr__` method is used to define an \"official\" string representation of an object. It is intended to be unambiguous and, ideally, a valid Python expression that could be used to recreate the object.\n",
        "- **Usage:** When you use `repr()` on an object or when you enter an object in the interactive interpreter, Python calls the `__repr__` method.\n",
        "- **Example Use Case:** Providing detailed information for debugging, logging for developers, or for cases where a more precise description of the object is necessary.\n",
        "\n",
        "### Key Differences\n",
        "- **Readability vs. Unambiguity:** `__str__` should be readable and user-friendly, while `__repr__` should be unambiguous and, if possible, match the exact code needed to recreate the object.\n",
        "- **Fallback:** If `__str__` is not defined, Python will use `__repr__` as a fallback for the `str()` function.\n",
        "\n",
        "### Example Implementation\n",
        "Here’s a simple example to illustrate the difference between `__str__` and `__repr__`:\n",
        "\n",
        "```python\n",
        "class Person:\n",
        "    def __init__(self, name, age):\n",
        "        self.name = name\n",
        "        self.age = age\n",
        "\n",
        "    def __str__(self):\n",
        "        return f\"Person(name={self.name}, age={self.age})\"\n",
        "\n",
        "    def __repr__(self):\n",
        "        return f\"Person(name={self.name!r}, age={self.age!r})\"\n",
        "\n",
        "# Creating an instance of Person\n",
        "person = Person(\"Alice\", 30)\n",
        "\n",
        "# Using str() and print(), which call __str__\n",
        "print(str(person))  # Output: Person(name=Alice, age=30)\n",
        "print(person)       # Output: Person(name=Alice, age=30)\n",
        "\n",
        "# Using repr(), which calls __repr__\n",
        "print(repr(person))  # Output: Person(name='Alice', age=30)\n",
        "```\n",
        "\n",
        "### When to Use Each\n",
        "- **Use `__str__` for:**\n",
        "  - Generating output that is user-facing.\n",
        "  - Making object representations more readable and informative for end-users.\n",
        "\n",
        "- **Use `__repr__` for:**\n",
        "  - Debugging and development, where a precise and unambiguous representation is needed.\n",
        "  - Ensuring that the output is detailed and, if possible, could recreate the object.\n",
        "\n",
        "In summary, both `__str__` and `__repr__` are used to define string representations of objects, but they serve different purposes and audiences. Implementing both methods in your classes ensures that your objects have appropriate representations for both user-facing applications and debugging contexts."
      ],
      "metadata": {
        "id": "a0JbhMQUJC5i"
      }
    },
    {
      "cell_type": "code",
      "source": [
        "class MyClass:\n",
        "    # Class variable\n",
        "    class_variable = \"I am a class variable\"\n",
        "\n",
        "    def __init__(self, instance_variable):\n",
        "        # Instance variable\n",
        "        self.instance_variable = instance_variable\n",
        "\n",
        "# Creating instances of MyClass\n",
        "obj1 = MyClass(\"I am instance variable of obj1\")\n",
        "obj2 = MyClass(\"I am instance variable of obj2\")\n",
        "\n",
        "# Accessing instance variables\n",
        "print(obj1.instance_variable)  # Output: I am instance variable of obj1\n",
        "print(obj2.instance_variable)  # Output: I am instance variable of obj2\n",
        "\n",
        "# Accessing class variable\n",
        "print(obj1.class_variable)  # Output: I am a class variable\n",
        "print(obj2.class_variable)  # Output: I am a class variable\n",
        "\n",
        "# Modifying class variable\n",
        "MyClass.class_variable = \"Class variable changed\"\n",
        "\n",
        "# Accessing modified class variable\n",
        "print(obj1.class_variable)  # Output: Class variable changed\n",
        "print(obj2.class_variable)  # Output: Class variable changed\n",
        "\n",
        "# Modifying instance variable\n",
        "obj1.instance_variable = \"Instance variable of obj1 changed\"\n",
        "\n",
        "# Accessing modified instance variable\n",
        "print(obj1.instance_variable)  # Output: Instance variable of obj1 changed\n",
        "print(obj2.instance_variable)  # Output: I am instance variable of obj2\n"
      ],
      "metadata": {
        "id": "3qiGdyzyJDs3",
        "outputId": "df7b7595-6ca3-41f1-f395-b37b3814016b",
        "colab": {
          "base_uri": "https://localhost:8080/"
        }
      },
      "execution_count": null,
      "outputs": [
        {
          "output_type": "stream",
          "name": "stdout",
          "text": [
            "I am instance variable of obj1\n",
            "I am instance variable of obj2\n",
            "I am a class variable\n",
            "I am a class variable\n",
            "Class variable changed\n",
            "Class variable changed\n",
            "Instance variable of obj1 changed\n",
            "I am instance variable of obj2\n"
          ]
        }
      ]
    },
    {
      "cell_type": "markdown",
      "source": [
        "In Python, you cannot directly add methods to an individual instance of a class after it has been created in a straightforward manner. However, you can achieve similar behavior using a few different techniques:\n",
        "\n",
        "1. **Adding Methods to a Single Instance:**\n",
        "   - You can use the `types.MethodType` to bind a method to an instance.\n",
        "   \n",
        "2. **Modifying the Class Definition:**\n",
        "   - You can add methods to the class itself, which will be available to all instances of the class.\n",
        "\n",
        "### Adding Methods to a Single Instance\n",
        "\n",
        "Here’s how you can add a method to a single instance using `types.MethodType`:\n",
        "\n",
        "```python\n",
        "from types import MethodType\n",
        "\n",
        "class MyClass:\n",
        "    def __init__(self, value):\n",
        "        self.value = value\n",
        "\n",
        "# Define a new method\n",
        "def new_method(self):\n",
        "    print(f\"The value is {self.value}\")\n",
        "\n",
        "# Create an instance of MyClass\n",
        "obj = MyClass(10)\n",
        "\n",
        "# Add the new method to the instance\n",
        "obj.new_method = MethodType(new_method, obj)\n",
        "\n",
        "# Call the new method\n",
        "obj.new_method()  # Output: The value is 10\n",
        "```\n",
        "\n",
        "### Modifying the Class Definition\n",
        "\n",
        "If you want the method to be available to all instances of the class, you can add it directly to the class definition:\n",
        "\n",
        "```python\n",
        "class MyClass:\n",
        "    def __init__(self, value):\n",
        "        self.value = value\n",
        "\n",
        "# Define a new method\n",
        "def new_method(self):\n",
        "    print(f\"The value is {self.value}\")\n",
        "\n",
        "# Add the new method to the class\n",
        "MyClass.new_method = new_method\n",
        "\n",
        "# Create an instance of MyClass\n",
        "obj = MyClass(10)\n",
        "\n",
        "# Call the new method\n",
        "obj.new_method()  # Output: The value is 10\n",
        "```\n",
        "\n",
        "### Dynamically Adding Methods at Runtime\n",
        "\n",
        "You can also dynamically add methods to a class at runtime:\n",
        "\n",
        "```python\n",
        "class MyClass:\n",
        "    def __init__(self, value):\n",
        "        self.value = value\n",
        "\n",
        "# Create an instance of MyClass\n",
        "obj = MyClass(10)\n",
        "\n",
        "# Define a new method\n",
        "def new_method(self):\n",
        "    print(f\"The value is {self.value}\")\n",
        "\n",
        "# Dynamically add the new method to the class\n",
        "setattr(MyClass, 'new_method', new_method)\n",
        "\n",
        "# Call the new method on the instance\n",
        "obj.new_method()  # Output: The value is 10\n",
        "```\n",
        "\n",
        "### Conclusion\n",
        "\n",
        "While you can't directly add methods to a specific instance in the same way you can add attributes, Python provides flexible ways to dynamically add methods to instances or classes. Using `types.MethodType`, `setattr`, or directly modifying the class definition are effective techniques to achieve this."
      ],
      "metadata": {
        "id": "tJdpH0xSZefJ"
      }
    },
    {
      "cell_type": "code",
      "source": [
        "class MyClass:\n",
        "    def __init__(self, value):\n",
        "        self.value = value\n",
        "\n",
        "# Create an instance of MyClass\n",
        "obj = MyClass(10)\n",
        "\n",
        "# Define a new method\n",
        "def new_method(self):\n",
        "    print(f\"The value is {self.value}\")\n",
        "\n",
        "# Dynamically add the new method to the class\n",
        "setattr(MyClass, 'new_method', new_method)\n",
        "\n",
        "# Call the new method on the instance\n",
        "obj.new_method()  # Output: The value is 10"
      ],
      "metadata": {
        "id": "IMSRLczx0hBW",
        "colab": {
          "base_uri": "https://localhost:8080/"
        },
        "outputId": "9342118c-7877-43f3-d326-496fab8a890e"
      },
      "execution_count": null,
      "outputs": [
        {
          "output_type": "stream",
          "name": "stdout",
          "text": [
            "The value is 10\n"
          ]
        }
      ]
    },
    {
      "cell_type": "code",
      "source": [],
      "metadata": {
        "id": "71DXCifDZhZj"
      },
      "execution_count": null,
      "outputs": []
    },
    {
      "cell_type": "markdown",
      "source": [
        "### Method Overriding and Method Overloading\n",
        "\n",
        "#### Method Overriding\n",
        "- **Definition:** Method overriding occurs when a subclass provides a specific implementation for a method that is already defined in its superclass. The method in the subclass should have the same name, return type, and parameters as the method in the superclass.\n",
        "- **Use Case:** It is used to provide a specific implementation of a method in the subclass that is already provided by its superclass.\n",
        "\n",
        "#### Method Overloading\n",
        "- **Definition:** Method overloading occurs when multiple methods with the same name but different parameters are defined in the same class. Python does not support method overloading directly. Instead, you can achieve similar behavior using default arguments or variable-length arguments.\n",
        "- **Use Case:** It allows a method to handle different types of input with different implementations.\n",
        "\n",
        "### Code Examples\n",
        "\n",
        "#### Method Overriding\n",
        "\n",
        "```python\n",
        "class Animal:\n",
        "    def sound(self):\n",
        "        return \"Some sound\"\n",
        "\n",
        "class Dog(Animal):\n",
        "    def sound(self):\n",
        "        return \"Bark\"\n",
        "\n",
        "# Creating instances\n",
        "animal = Animal()\n",
        "dog = Dog()\n",
        "\n",
        "print(animal.sound())  # Output: Some sound\n",
        "print(dog.sound())     # Output: Bark\n",
        "```\n",
        "\n",
        "In the example above, the `sound` method in the `Dog` class overrides the `sound` method in the `Animal` class.\n",
        "\n",
        "#### Method Overloading (Simulated in Python)\n",
        "\n",
        "Since Python does not support method overloading directly, you can achieve it using default parameters or `*args` and `**args`.\n",
        "\n",
        "##### Using Default Parameters\n",
        "\n",
        "```python\n",
        "class Calculator:\n",
        "    def add(self, a, b=0, c=0):\n",
        "        return a + b + c\n",
        "\n",
        "# Creating instance\n",
        "calc = Calculator()\n",
        "\n",
        "print(calc.add(1))        # Output: 1\n",
        "print(calc.add(1, 2))     # Output: 3\n",
        "print(calc.add(1, 2, 3))  # Output: 6\n",
        "```\n",
        "\n",
        "##### Using `*args` and `**kwargs`\n",
        "\n",
        "```python\n",
        "class Calculator:\n",
        "    def add(self, *args):\n",
        "        return sum(args)\n",
        "\n",
        "# Creating instance\n",
        "calc = Calculator()\n",
        "\n",
        "print(calc.add(1))        # Output: 1\n",
        "print(calc.add(1, 2))     # Output: 3\n",
        "print(calc.add(1, 2, 3))  # Output: 6\n",
        "```\n",
        "\n",
        "### Key Differences\n",
        "\n",
        "1. **Purpose:**\n",
        "   - **Method Overriding:** Used to change the behavior of inherited methods.\n",
        "   - **Method Overloading:** Used to define multiple methods with the same name but different signatures.\n",
        "\n",
        "2. **Implementation:**\n",
        "   - **Method Overriding:** Implemented by defining a method in the subclass with the same name and parameters as in the superclass.\n",
        "   - **Method Overloading:** Simulated in Python using default parameters or variable-length arguments since Python does not support it directly.\n",
        "\n",
        "3. **Polymorphism:**\n",
        "   - **Method Overriding:** Supports runtime polymorphism.\n",
        "   - **Method Overloading:** Supports compile-time polymorphism (in languages that support it directly).\n",
        "\n",
        "### Summary\n",
        "\n",
        "- **Method Overriding:** Changes the behavior of a method in a subclass. Used for polymorphism.\n",
        "- **Method Overloading:** Allows multiple methods with the same name but different parameters. Simulated in Python using default arguments or variable-length arguments."
      ],
      "metadata": {
        "id": "ttqd3Rnjc7EN"
      }
    },
    {
      "cell_type": "markdown",
      "source": [
        "## Without using super() keyword"
      ],
      "metadata": {
        "id": "JG9BSUwqhjeK"
      }
    },
    {
      "cell_type": "code",
      "source": [
        "class A:\n",
        "    def __init__(self):\n",
        "        print(\"world\")\n",
        "\n",
        "class B(A):\n",
        "    def __init__(self):\n",
        "       print(\"hello\")\n",
        "\n",
        "b=B()\n",
        "b  # output: hello"
      ],
      "metadata": {
        "colab": {
          "base_uri": "https://localhost:8080/"
        },
        "id": "rLbdXSnsc7nY",
        "outputId": "93fccc61-d9c4-47aa-dc32-aa170d7b4c5b"
      },
      "execution_count": null,
      "outputs": [
        {
          "output_type": "stream",
          "name": "stdout",
          "text": [
            "hello\n"
          ]
        },
        {
          "output_type": "execute_result",
          "data": {
            "text/plain": [
              "<__main__.B at 0x7e482e06cd30>"
            ]
          },
          "metadata": {},
          "execution_count": 3
        }
      ]
    },
    {
      "cell_type": "markdown",
      "source": [
        "### By using super() Keyword"
      ],
      "metadata": {
        "id": "8sySfosrij6Z"
      }
    },
    {
      "cell_type": "code",
      "source": [
        "class A:\n",
        "    def __init__(self):\n",
        "        print(\"world\")\n",
        "\n",
        "class B(A):\n",
        "    def __init__(self):\n",
        "      super().__init__()\n",
        "      print(\"hello\")\n",
        "\n",
        "b=B()\n",
        "b  # output: hello"
      ],
      "metadata": {
        "colab": {
          "base_uri": "https://localhost:8080/"
        },
        "id": "L0dPWFOAhoiz",
        "outputId": "21563bb6-5966-4161-d64a-3466c6409a6e"
      },
      "execution_count": null,
      "outputs": [
        {
          "output_type": "stream",
          "name": "stdout",
          "text": [
            "world\n",
            "hello\n"
          ]
        },
        {
          "output_type": "execute_result",
          "data": {
            "text/plain": [
              "<__main__.B at 0x7e482e06dcc0>"
            ]
          },
          "metadata": {},
          "execution_count": 5
        }
      ]
    },
    {
      "cell_type": "code",
      "source": [
        "class Parent:\n",
        "    def __init__(self, value):\n",
        "        self.value = value\n",
        "        print(\"Parent constructor called\")\n",
        "\n",
        "class Child(Parent):\n",
        "    def __init__(self, value, extra):\n",
        "        super().__init__(value)  # Call the parent class constructor\n",
        "        self.extra = extra\n",
        "        print(\"Child constructor called\")\n",
        "\n",
        "# Creating an instance of Child\n",
        "child = Child(10, 20)\n",
        "\n",
        "# Both parent and child constructors are called\n",
        "print(child.value)  # Output: 10\n",
        "print(child.extra)  # Output: 20\n"
      ],
      "metadata": {
        "colab": {
          "base_uri": "https://localhost:8080/"
        },
        "id": "_lpQf-cUh3RK",
        "outputId": "9c17c262-8f2a-4d4d-d3ee-979bfed91fba"
      },
      "execution_count": null,
      "outputs": [
        {
          "output_type": "stream",
          "name": "stdout",
          "text": [
            "Parent constructor called\n",
            "Child constructor called\n",
            "10\n",
            "20\n"
          ]
        }
      ]
    },
    {
      "cell_type": "code",
      "source": [],
      "metadata": {
        "id": "zq5UMw_vih3a"
      },
      "execution_count": null,
      "outputs": []
    },
    {
      "cell_type": "markdown",
      "source": [
        "### [object-oriented-programming in Python ](https://pynative.com/python/object-oriented-programming/)\n",
        "\n",
        "- [Constructors in Python](https://pynative.com/python-constructors/#h-constructor-chaining)\n",
        "- [Python Instance Variables Explained With Examples](https://pynative.com/python-instance-variables/)\n",
        "- [Python Class Variables](https://pynative.com/python-class-variables/)\n",
        "- [Python Instance Methods Explained With Examples](https://pynative.com/python-instance-methods/)\n",
        "- [Python Class Method Explained With Examples](https://pynative.com/python-class-method/)\n",
        "- [static-method](https://pynative.com/python-static-method/)\n",
        "- [Encapsulation in Python]()\n",
        "\n",
        "- [Classes and Objects in Python](https://pynative.com/python-classes-and-objects/): You'll understand how to implement object-oriented programs by creating to create classes and objects.\n",
        "\n",
        "- [Encapsulation in Python](https://pynative.com/python-encapsulation/): Learn to implement Encapsulation in Python using class. implement Data Hiding using public, protected, and private members\n",
        "[Polymorphism in Python](https://pynative.com/python-polymorphism/): Learn to implement Polymorphism in Python using function overloading, method overriding, and operator overloading.\n",
        "[Inheritance in Python](https://pynative.com/python-inheritance/): Learn to implement inheritance in Python. Also, learn types of inheritance and MRO (Method Resolution Order).\n",
        "- [Python Class Method vs. Static Method vs. Instance Method](https://pynative.com/python-class-method-vs-static-method-vs-instance-method/): Understand the difference between all three class methods\n",
        "- [Python OOP Exercise](https://pynative.com/python-object-oriented-programming-oop-exercise/): Solve this exercise to practice and understand OOP concepts."
      ],
      "metadata": {
        "id": "qy7r2iCjgRVf"
      }
    },
    {
      "cell_type": "markdown",
      "source": [
        "## Instance vs Class vs Static Method"
      ],
      "metadata": {
        "id": "MDMEanIemhwf"
      }
    },
    {
      "cell_type": "code",
      "source": [
        "class MyClass:\n",
        "    # Class attribute\n",
        "    class_variable = \"I am a class variable\"\n",
        "\n",
        "    def __init__(self, instance_variable):\n",
        "        # Instance attribute\n",
        "        self.instance_variable = instance_variable\n",
        "\n",
        "    # Instance method\n",
        "    def instance_method(self):\n",
        "        return f\"Instance method called. Instance variable: {self.instance_variable}\"\n",
        "\n",
        "    # Class method\n",
        "    @classmethod\n",
        "    def class_method(cls):\n",
        "        return f\"Class method called. Class variable: {cls.class_variable}\"\n",
        "\n",
        "    # Static method\n",
        "    @staticmethod\n",
        "    def static_method():\n",
        "        return \"Static method called. No access to instance or class variables.\"\n",
        "\n",
        "# Creating an instance of MyClass\n",
        "obj = MyClass(\"I am an instance variable\")\n",
        "\n",
        "# Calling instance method\n",
        "print(obj.instance_method())  # Output: Instance method called. Instance variable: I am an instance variable\n",
        "\n",
        "# Calling class method\n",
        "print(MyClass.class_method())  # Output: Class method called. Class variable: I am a class variable\n",
        "\n",
        "# Calling static method\n",
        "print(MyClass.static_method())  # Output: Static method called. No access to instance or class variables\n",
        "\n",
        "# You can also call class and static methods using the instance\n",
        "print(obj.class_method())  # Output: Class method called. Class variable: I am a class variable\n",
        "print(obj.static_method())  # Output: Static method called. No access to instance or class variables\n"
      ],
      "metadata": {
        "colab": {
          "base_uri": "https://localhost:8080/"
        },
        "id": "ZMh0E8uFiRSu",
        "outputId": "50bfd523-db19-47a0-e95e-fbc8491e1eb7"
      },
      "execution_count": 1,
      "outputs": [
        {
          "output_type": "stream",
          "name": "stdout",
          "text": [
            "Instance method called. Instance variable: I am an instance variable\n",
            "Class method called. Class variable: I am a class variable\n",
            "Static method called. No access to instance or class variables.\n",
            "Class method called. Class variable: I am a class variable\n",
            "Static method called. No access to instance or class variables.\n"
          ]
        }
      ]
    },
    {
      "cell_type": "code",
      "source": [],
      "metadata": {
        "id": "PwrJ41bImgBZ"
      },
      "execution_count": null,
      "outputs": []
    }
  ]
}